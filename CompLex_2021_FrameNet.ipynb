{
  "nbformat": 4,
  "nbformat_minor": 0,
  "metadata": {
    "kernelspec": {
      "display_name": "Python 3",
      "language": "python",
      "name": "python3"
    },
    "language_info": {
      "codemirror_mode": {
        "name": "ipython",
        "version": 3
      },
      "file_extension": ".py",
      "mimetype": "text/x-python",
      "name": "python",
      "nbconvert_exporter": "python",
      "pygments_lexer": "ipython3",
      "version": "3.6.0"
    },
    "colab": {
      "name": "CompLex_2021_FrameNet",
      "provenance": [],
      "include_colab_link": true
    }
  },
  "cells": [
    {
      "cell_type": "markdown",
      "metadata": {
        "id": "view-in-github",
        "colab_type": "text"
      },
      "source": [
        "<a href=\"https://colab.research.google.com/github/SvetLanchY/CompLing/blob/main/CompLex_2021_FrameNet.ipynb\" target=\"_parent\"><img src=\"https://colab.research.google.com/assets/colab-badge.svg\" alt=\"Open In Colab\"/></a>"
      ]
    },
    {
      "cell_type": "markdown",
      "metadata": {
        "collapsed": true,
        "id": "HAlCrf7uRLHj"
      },
      "source": [
        "# FrameNet"
      ]
    },
    {
      "cell_type": "markdown",
      "metadata": {
        "id": "eTD1D3TPRLHk"
      },
      "source": [
        "Главный сайт проекта: https://framenet2.icsi.berkeley.edu <br>\n",
        "FrameNet через nltk: http://www.nltk.org/howto/framenet.html"
      ]
    },
    {
      "cell_type": "code",
      "metadata": {
        "id": "gi0_Mi7hRLHk",
        "colab": {
          "base_uri": "https://localhost:8080/"
        },
        "outputId": "2fbab888-51cc-41fa-965b-d5782e967eaa"
      },
      "source": [
        "import nltk\n",
        "nltk.download('framenet_v17')"
      ],
      "execution_count": 1,
      "outputs": [
        {
          "output_type": "stream",
          "text": [
            "[nltk_data] Downloading package framenet_v17 to /root/nltk_data...\n",
            "[nltk_data]   Unzipping corpora/framenet_v17.zip.\n"
          ],
          "name": "stdout"
        },
        {
          "output_type": "execute_result",
          "data": {
            "text/plain": [
              "True"
            ]
          },
          "metadata": {
            "tags": []
          },
          "execution_count": 1
        }
      ]
    },
    {
      "cell_type": "code",
      "metadata": {
        "collapsed": true,
        "id": "RI4TCnXnRLHl"
      },
      "source": [
        "from nltk.corpus import framenet as fn"
      ],
      "execution_count": 2,
      "outputs": []
    },
    {
      "cell_type": "markdown",
      "metadata": {
        "id": "2-Om5AbCRLHn"
      },
      "source": [
        "Все фреймы:"
      ]
    },
    {
      "cell_type": "code",
      "metadata": {
        "id": "1mU6jtINRLHn",
        "colab": {
          "base_uri": "https://localhost:8080/"
        },
        "outputId": "f997e5ce-b259-454b-e28c-8eab30a7e852"
      },
      "source": [
        "print (fn.frames(), len(fn.frames()))"
      ],
      "execution_count": 3,
      "outputs": [
        {
          "output_type": "stream",
          "text": [
            "[<frame ID=2031 name=Abandonment>, <frame ID=262 name=Abounding_with>, ...] 1221\n"
          ],
          "name": "stdout"
        }
      ]
    },
    {
      "cell_type": "markdown",
      "metadata": {
        "id": "8nuOHzHfRLHo"
      },
      "source": [
        "Все фреймы, в которых есть подстрока 'event':"
      ]
    },
    {
      "cell_type": "code",
      "metadata": {
        "id": "ZxCWPMFKRLHp",
        "colab": {
          "base_uri": "https://localhost:8080/"
        },
        "outputId": "e10636a0-0ae4-41e4-bc9f-db7473e428d4"
      },
      "source": [
        "for frame in fn.frames('event'):\n",
        "    print (frame.name)"
      ],
      "execution_count": 4,
      "outputs": [
        {
          "output_type": "stream",
          "text": [
            "Change_event_duration\n",
            "Change_event_time\n",
            "Desirable_event\n",
            "Historic_event\n",
            "Locale_by_event\n",
            "Prevent_or_allow_possession\n",
            "Preventing_or_letting\n",
            "Required_event\n",
            "Social_event\n",
            "Social_event_collective\n",
            "Social_event_individuals\n"
          ],
          "name": "stdout"
        }
      ]
    },
    {
      "cell_type": "markdown",
      "metadata": {
        "id": "McgM7xEcRLHq"
      },
      "source": [
        "Все слова:"
      ]
    },
    {
      "cell_type": "code",
      "metadata": {
        "id": "9oklnAbaRLHr",
        "colab": {
          "base_uri": "https://localhost:8080/"
        },
        "outputId": "3f87085e-34ee-4bde-a9f3-e44636325058"
      },
      "source": [
        "print (fn.lus(), len(fn.lus()))"
      ],
      "execution_count": 19,
      "outputs": [
        {
          "output_type": "stream",
          "text": [
            "[<lu ID=16601 name=(can't) help.v>, <lu ID=14632 name=(in/out of) line.n>, ...] 13572\n"
          ],
          "name": "stdout"
        }
      ]
    },
    {
      "cell_type": "markdown",
      "metadata": {
        "id": "LAHJy9plRLHs"
      },
      "source": [
        "Каждый фрейм - это словарь. Заглянем внутрь фрейма Historic_event:"
      ]
    },
    {
      "cell_type": "code",
      "metadata": {
        "id": "o4XnPUkPRLHt",
        "colab": {
          "base_uri": "https://localhost:8080/"
        },
        "outputId": "5506315f-a16a-4103-98ea-2b8c9abcd13b"
      },
      "source": [
        "frame_example = fn.frame('Historic_event')\n",
        "print (frame_example)"
      ],
      "execution_count": 20,
      "outputs": [
        {
          "output_type": "stream",
          "text": [
            "frame (1908): Historic_event\n",
            "\n",
            "[URL] https://framenet2.icsi.berkeley.edu/fnReports/data/frame/Historic_event.xml\n",
            "\n",
            "[definition]\n",
            "  In the course of history, an Event or Entity is taken to have\n",
            "  importance or significance.  'Throughout the campaign activists\n",
            "  have made financial history as one by one major corporations have\n",
            "  yielded to protester power'  'The conference was historic for\n",
            "  Atlanta's growth as a city.'  'Many of the historic sites offer\n",
            "  additional outdoor recreation activities.'  'The James River is\n",
            "  arguably the most historic river in the country and one of the\n",
            "  most important rivers in the Southeast.'  'Take in the history,\n",
            "  the sawdust-covered floors, and the legendary backroom where the\n",
            "  ale flowed during Prohibition.'\n",
            "\n",
            "[semTypes] 0 semantic types\n",
            "\n",
            "[frameRelations] 3 frame relations\n",
            "  <Parent=Eventive_affecting -- Inheritance -> Child=Historic_event>\n",
            "  <Complex=Individual_history -- Subframe -> Component=Historic_event>\n",
            "  <Parent=Importance -- Using -> Child=Historic_event>\n",
            "\n",
            "[lexUnit] 3 lexical units\n",
            "  historic [entity].a (15178), historic.a (14182), make\n",
            "  history.idio (14183)\n",
            "\n",
            "\n",
            "[FE] 8 frame elements\n",
            "            Core: Entity (11421), Event (11417)\n",
            "      Peripheral: Domain (11427), Manner (11422), Place (11418), Time (11419)\n",
            "  Extra-Thematic: Degree (13000), Explanation (11420)\n",
            "\n",
            "[FEcoreSets] 1 frame element core sets\n",
            "  Event, Entity\n",
            "\n"
          ],
          "name": "stdout"
        }
      ]
    },
    {
      "cell_type": "markdown",
      "metadata": {
        "id": "ER_2p6SeRLHt"
      },
      "source": [
        "FE и lexUnit - тоже словари:"
      ]
    },
    {
      "cell_type": "code",
      "metadata": {
        "id": "K7JNOgLlRLHu",
        "colab": {
          "base_uri": "https://localhost:8080/"
        },
        "outputId": "7aef694e-af9a-4286-e393-581be6ac50cb"
      },
      "source": [
        "print (frame_example.FE)"
      ],
      "execution_count": 21,
      "outputs": [
        {
          "output_type": "stream",
          "text": [
            "[Event] frame element (11417): Event\n",
            "    of Historic_event(1908)\n",
            "[definition]\n",
            "  This FE identifies the event which occurs to create history.\n",
            "[abbrev] Evnt\n",
            "[coreType] Core\n",
            "[requiresFE] <None>\n",
            "[excludesFE] <None>\n",
            "[semType] \n",
            "  State_of_affairs(177)\n",
            "\n",
            "[Place] frame element (11418): Place\n",
            "    of Historic_event(1908)\n",
            "[definition]\n",
            "  This FE identifies where the event takes place.\n",
            "[abbrev] Place\n",
            "[coreType] Peripheral\n",
            "[requiresFE] <None>\n",
            "[excludesFE] <None>\n",
            "[semType] \n",
            "  Locative_relation(182)\n",
            "\n",
            "[Time] frame element (11419): Time\n",
            "    of Historic_event(1908)\n",
            "[definition]\n",
            "  This FE identifies the time when the event occurs.\n",
            "[abbrev] Time\n",
            "[coreType] Peripheral\n",
            "[requiresFE] <None>\n",
            "[excludesFE] <None>\n",
            "[semType] \n",
            "  Time(141)\n",
            "\n",
            "[Explanation] frame element (11420): Explanation\n",
            "    of Historic_event(1908)\n",
            "[definition]\n",
            "  This FE identifies the Explanation for which an event occurs.\n",
            "[abbrev] Exp\n",
            "[coreType] Extra-Thematic\n",
            "[requiresFE] <None>\n",
            "[excludesFE] <None>\n",
            "[semType] \n",
            "  State_of_affairs(177)\n",
            "\n",
            "[Entity] frame element (11421): Entity\n",
            "    of Historic_event(1908)\n",
            "[definition]\n",
            "  This FE identifies the entity, concrete or abstract.\n",
            "[abbrev] Ent\n",
            "[coreType] Core\n",
            "[requiresFE] <None>\n",
            "[excludesFE] <None>\n",
            "[semType] <None>\n",
            "\n",
            "[Manner] frame element (11422): Manner\n",
            "    of Historic_event(1908)\n",
            "[definition]\n",
            "  Any description of the event which is not covered by more\n",
            "  specific FEs, including secondary effects (quietly, loudly) and\n",
            "  general descriptions comparing events (the same way).\n",
            "[abbrev] Man\n",
            "[coreType] Peripheral\n",
            "[requiresFE] <None>\n",
            "[excludesFE] <None>\n",
            "[semType] <None>\n",
            "\n",
            "[Domain] frame element (11427): Domain\n",
            "    of Historic_event(1908)\n",
            "[definition]\n",
            "  The Domain is (a characterization of) the type of event that is\n",
            "  part of the Event's history.  'Throughout the campaign activists\n",
            "  have made financial history as one by one major corporations have\n",
            "  yielded to protester power'\n",
            "[abbrev] dom\n",
            "[coreType] Peripheral\n",
            "[requiresFE] <None>\n",
            "[excludesFE] <None>\n",
            "[semType] <None>\n",
            "\n",
            "[Degree] frame element (13000): Degree\n",
            "    of Historic_event(1908)\n",
            "[definition]\n",
            "  This frame element selects some gradable attribute and modifies\n",
            "  the expected value for it.\n",
            "[abbrev] Deg\n",
            "[coreType] Extra-Thematic\n",
            "[requiresFE] <None>\n",
            "[excludesFE] <None>\n",
            "[semType] <None>\n",
            "\n",
            "\n"
          ],
          "name": "stdout"
        }
      ]
    },
    {
      "cell_type": "markdown",
      "metadata": {
        "id": "0b_5EMhgRLHu"
      },
      "source": [
        "Способы обратиться к элементам фрейма (FE):"
      ]
    },
    {
      "cell_type": "code",
      "metadata": {
        "id": "7W_tnUO7RLHv",
        "colab": {
          "base_uri": "https://localhost:8080/"
        },
        "outputId": "f360f60e-0369-4758-8d24-cbef672f5cd8"
      },
      "source": [
        "print (frame_example.FE.Event.definition)\n",
        "# Или: print (frame_HistEvent['FE']['Event']['definition'])"
      ],
      "execution_count": 22,
      "outputs": [
        {
          "output_type": "stream",
          "text": [
            "This FE identifies the event which occurs to create history.\n"
          ],
          "name": "stdout"
        }
      ]
    },
    {
      "cell_type": "markdown",
      "metadata": {
        "id": "MkhIiZu_RLHv"
      },
      "source": [
        "В словарях лексических юнитов скрываются размеченные примеры:"
      ]
    },
    {
      "cell_type": "code",
      "metadata": {
        "id": "1ATVQUF-RLHw",
        "colab": {
          "base_uri": "https://localhost:8080/"
        },
        "outputId": "fca3cf2f-712f-42cb-b982-ab36ad157a5a"
      },
      "source": [
        "historic = frame_example.lexUnit['historic.a']\n",
        "# то же самое (по ID):\n",
        "# historic = fn.lu(14182))\n",
        "print (historic)"
      ],
      "execution_count": 23,
      "outputs": [
        {
          "output_type": "stream",
          "text": [
            "lexical unit (14182): historic.a\n",
            "\n",
            "[definition]\n",
            "  COD: famous or important in history, or potentially so.\n",
            "\n",
            "[frame] Historic_event(1908)\n",
            "\n",
            "[POS] A\n",
            "\n",
            "[status] Finished_Initial\n",
            "\n",
            "[lexemes] historic/A\n",
            "\n",
            "[semTypes] 0 semantic types\n",
            "\n",
            "[URL] https://framenet2.icsi.berkeley.edu/fnReports/data/lu/lu14182.xml\n",
            "\n",
            "[subCorpus] 8 subcorpora\n",
            "  01-T-Wmoment,victory,opportunity-(1), 03-NP-VP-T-(1),\n",
            "  04-T-NP-(1), 05-AVP-T-(1), 06-T-AVP-(1), manually-added,\n",
            "  other-matched-(1), other-unmatched-(1)\n",
            "\n",
            "[exemplars] 17 sentences across all subcorpora\n",
            "\n"
          ],
          "name": "stdout"
        }
      ]
    },
    {
      "cell_type": "code",
      "metadata": {
        "id": "4H4gKDg8RLHx",
        "colab": {
          "base_uri": "https://localhost:8080/"
        },
        "outputId": "c0d9948b-647c-4cf1-96a3-d5623654108a"
      },
      "source": [
        "print (historic.exemplars[0])"
      ],
      "execution_count": 24,
      "outputs": [
        {
          "output_type": "stream",
          "text": [
            "exemplar sentence (1454496):\n",
            "[corpID] 111\n",
            "[docID] 421\n",
            "[paragNo] 7518\n",
            "[sentNo] 1\n",
            "[aPos] 28944963\n",
            "\n",
            "[LU] (14182) historic.a in Historic_event\n",
            "\n",
            "[frame] (1908) Historic_event\n",
            "\n",
            "[annotationSet] 2 annotation sets\n",
            "\n",
            "[POS] 27 tags\n",
            "\n",
            "[POS_tagset] PENN\n",
            "\n",
            "[GF] 2 relations\n",
            "\n",
            "[PT] 2 phrases\n",
            "\n",
            "[text] + [Target] + [FE]\n",
            "\n",
            "Researchers expected to find six out of ten people could recall \n",
            "                                                                \n",
            "                                                                \n",
            " \n",
            "Lady Thatcher 's historic resignation moment in vivid detail by \n",
            "---------------- ******** ------------------\n",
            "Entity                    Event             \n",
            " \n",
            "retaining a long-lasting ` flashbulb \" memory .\n",
            " \n",
            " \n",
            " \n",
            "\n",
            "\n"
          ],
          "name": "stdout"
        }
      ]
    },
    {
      "cell_type": "markdown",
      "metadata": {
        "id": "xThXDIdhRLHy"
      },
      "source": [
        "## Практическое задание"
      ]
    },
    {
      "cell_type": "markdown",
      "metadata": {
        "id": "GBWFOilERLHy"
      },
      "source": [
        "1. Найдите все ядерные элементы фрейма Removing.\n",
        "2. Найдите 5 примеров употребления лексемы take.v из фрейма Removing (с разметкой).\n",
        "3. Найдите все фреймы, в число ядерных (Core) элементов которых входит участник с ролью начальной точки перемещения (Source)."
      ]
    },
    {
      "cell_type": "code",
      "metadata": {
        "id": "6G5YGpMFkKhs",
        "outputId": "97652669-9c19-4d4e-c7b0-2821374daabf",
        "colab": {
          "base_uri": "https://localhost:8080/"
        }
      },
      "source": [
        "#Задание 3:\n",
        "for frame in fn.frames():\n",
        "    if 'Source' in frame['FE']:\n",
        "        if frame['FE']['Source']['coreType'] == 'Core':\n",
        "            print(frame.name)"
      ],
      "execution_count": 30,
      "outputs": [
        {
          "output_type": "stream",
          "text": [
            "Becoming_detached\n",
            "Being_detached\n",
            "Bringing\n",
            "Cause_fluidic_motion\n",
            "Cause_motion\n",
            "Container_focused_removing\n",
            "Correctness\n",
            "Cotheme\n",
            "Departing\n",
            "Detaching\n",
            "Emanating\n",
            "Emptying\n",
            "Excreting\n",
            "Fleeing\n",
            "Fluidic_motion\n",
            "Food_gathering\n",
            "Getting_underway\n",
            "Getting_vehicle_underway\n",
            "Intentional_traversing\n",
            "Level_of_light\n",
            "Light_movement\n",
            "Mass_motion\n",
            "Motion\n",
            "Motion_directional\n",
            "Motion_noise\n",
            "Motion_scenario\n",
            "Operate_vehicle\n",
            "Operate_vehicle_scenario\n",
            "Optical_image\n",
            "Passing\n",
            "Path_shape\n",
            "Planned_trajectory\n",
            "Quitting_a_place\n",
            "Removing\n",
            "Removing_scenario\n",
            "Ride_vehicle\n",
            "Robbery\n",
            "Self_motion\n",
            "Sensation\n",
            "Setting_out\n",
            "Smuggling\n",
            "Source_of_getting\n",
            "Source_path_goal\n",
            "Taking\n",
            "Theft\n",
            "Travel\n",
            "Traversing\n",
            "Use_vehicle\n",
            "Vehicle_departure_initial_stage\n",
            "Visiting_scenario_departing\n",
            "Visitor_departure\n"
          ],
          "name": "stdout"
        }
      ]
    }
  ]
}