{
  "nbformat": 4,
  "nbformat_minor": 0,
  "metadata": {
    "colab": {
      "name": "Untitled11.ipynb",
      "provenance": [],
      "authorship_tag": "ABX9TyOeEOIZU1/caG4Lg/2S8Z35",
      "include_colab_link": true
    },
    "kernelspec": {
      "name": "python3",
      "display_name": "Python 3"
    }
  },
  "cells": [
    {
      "cell_type": "markdown",
      "metadata": {
        "id": "view-in-github",
        "colab_type": "text"
      },
      "source": [
        "<a href=\"https://colab.research.google.com/github/SvetLanchY/CompLing/blob/main/Parser_CNN.ipynb\" target=\"_parent\"><img src=\"https://colab.research.google.com/assets/colab-badge.svg\" alt=\"Open In Colab\"/></a>"
      ]
    },
    {
      "cell_type": "code",
      "metadata": {
        "id": "Vrx9NHNMpxIl"
      },
      "source": [
        "# parcing страницы CNN\r\n",
        "\r\n",
        "! pip3 install requests\r\n",
        "! pip3 install beautifulsoup4 "
      ],
      "execution_count": null,
      "outputs": []
    },
    {
      "cell_type": "code",
      "metadata": {
        "id": "oOCgQFicqAuY"
      },
      "source": [
        "import requests as rq\r\n",
        "\r\n",
        "from bs4 import BeautifulSoup"
      ],
      "execution_count": null,
      "outputs": []
    },
    {
      "cell_type": "code",
      "metadata": {
        "id": "ZuSS4T8VqC1v"
      },
      "source": [
        "url = 'http://lite.cnn.com/en'"
      ],
      "execution_count": null,
      "outputs": []
    }
  ]
}