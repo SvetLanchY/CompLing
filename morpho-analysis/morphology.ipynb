{
  "nbformat": 4,
  "nbformat_minor": 0,
  "metadata": {
    "colab": {
      "name": "morphology.ipynb",
      "provenance": [],
      "collapsed_sections": [
        "prpnW0kWjtdg"
      ],
      "include_colab_link": true
    },
    "kernelspec": {
      "display_name": "Python 3",
      "language": "python",
      "name": "python3"
    },
    "language_info": {
      "codemirror_mode": {
        "name": "ipython",
        "version": 3
      },
      "file_extension": ".py",
      "mimetype": "text/x-python",
      "name": "python",
      "nbconvert_exporter": "python",
      "pygments_lexer": "ipython3",
      "version": "3.8.2"
    }
  },
  "cells": [
    {
      "cell_type": "markdown",
      "metadata": {
        "id": "view-in-github",
        "colab_type": "text"
      },
      "source": [
        "<a href=\"https://colab.research.google.com/github/SvetLanchY/CompLing/blob/main/morpho-analysis/morphology.ipynb\" target=\"_parent\"><img src=\"https://colab.research.google.com/assets/colab-badge.svg\" alt=\"Open In Colab\"/></a>"
      ]
    },
    {
      "cell_type": "markdown",
      "metadata": {
        "id": "qUCeat3VZWY6"
      },
      "source": [
        "Сегодня мы поговорим о морфологических анализаторах для русского языка. Важно отметить, что (в основном) для каждого естественного языка нужен свой морфоанализатор.\n",
        "\n",
        "* шаг 1: установим пайморфи и майстем"
      ]
    },
    {
      "cell_type": "code",
      "metadata": {
        "colab": {
          "base_uri": "https://localhost:8080/",
          "height": 326
        },
        "id": "tP2ugs4qYMIO",
        "outputId": "21a7fa9d-c127-43b8-9f60-2f804e38aa9d"
      },
      "source": [
        "!pip install pymystem3==0.1.10\n",
        "!pip install pymorphy2[fast]"
      ],
      "execution_count": null,
      "outputs": [
        {
          "output_type": "stream",
          "text": [
            "Collecting pymystem3==0.1.10\n",
            "  Downloading https://files.pythonhosted.org/packages/51/56/57e550b53587719e92330a79c7c0f555402d953b00700efae6d5ca53cdef/pymystem3-0.1.10-py3-none-any.whl\n",
            "Requirement already satisfied: requests in /usr/local/lib/python3.6/dist-packages (from pymystem3==0.1.10) (2.21.0)\n",
            "Requirement already satisfied: idna<2.9,>=2.5 in /usr/local/lib/python3.6/dist-packages (from requests->pymystem3==0.1.10) (2.8)\n",
            "Requirement already satisfied: urllib3<1.25,>=1.21.1 in /usr/local/lib/python3.6/dist-packages (from requests->pymystem3==0.1.10) (1.24.3)\n",
            "Requirement already satisfied: chardet<3.1.0,>=3.0.2 in /usr/local/lib/python3.6/dist-packages (from requests->pymystem3==0.1.10) (3.0.4)\n",
            "Requirement already satisfied: certifi>=2017.4.17 in /usr/local/lib/python3.6/dist-packages (from requests->pymystem3==0.1.10) (2019.9.11)\n",
            "Installing collected packages: pymystem3\n",
            "  Found existing installation: pymystem3 0.2.0\n",
            "    Uninstalling pymystem3-0.2.0:\n",
            "      Successfully uninstalled pymystem3-0.2.0\n",
            "Successfully installed pymystem3-0.1.10\n",
            "Requirement already satisfied: pymorphy2[fast] in /usr/local/lib/python3.6/dist-packages (0.8)\n",
            "Requirement already satisfied: pymorphy2-dicts<3.0,>=2.4 in /usr/local/lib/python3.6/dist-packages (from pymorphy2[fast]) (2.4.393442.3710985)\n",
            "Requirement already satisfied: docopt>=0.6 in /usr/local/lib/python3.6/dist-packages (from pymorphy2[fast]) (0.6.2)\n",
            "Requirement already satisfied: dawg-python>=0.7 in /usr/local/lib/python3.6/dist-packages (from pymorphy2[fast]) (0.7.2)\n",
            "Requirement already satisfied: DAWG>=0.7.3; extra == \"fast\" in /usr/local/lib/python3.6/dist-packages (from pymorphy2[fast]) (0.7.8)\n"
          ],
          "name": "stdout"
        }
      ]
    },
    {
      "cell_type": "code",
      "metadata": {
        "colab": {
          "base_uri": "https://localhost:8080/",
          "height": 54
        },
        "id": "K_EYd7mJanYb",
        "outputId": "41b8f3a1-b8fd-42e9-a8a5-020f05b952df"
      },
      "source": [
        "# импорты\n",
        "from pymorphy2 import MorphAnalyzer\n",
        "from pymystem3 import Mystem\n",
        "\n",
        "# сохраняем класс в переменную\n",
        "mystem = Mystem() \n",
        "morph = MorphAnalyzer() "
      ],
      "execution_count": null,
      "outputs": [
        {
          "output_type": "stream",
          "text": [
            "Installing mystem to /root/.local/bin/mystem from http://download.cdn.yandex.net/mystem/mystem-3.0-linux3.1-64bit.tar.gz\n"
          ],
          "name": "stderr"
        }
      ]
    },
    {
      "cell_type": "code",
      "metadata": {
        "id": "sAm6HB5hfS-A"
      },
      "source": [
        "# сэмпл-текст, на котором все будем пробовать\n",
        "text = \"\"\"Система состоит из камеры и программного обеспечения, которое анализирует фотографию.\n",
        " Суть технологии — сопоставление лиц, попавших в объектив, с изображениями из базы данных\"\"\""
      ],
      "execution_count": null,
      "outputs": []
    },
    {
      "cell_type": "markdown",
      "metadata": {
        "id": "BBDkyu6kdeQO"
      },
      "source": [
        "## нормализация"
      ]
    },
    {
      "cell_type": "markdown",
      "metadata": {
        "id": "YJ05gNGxkY4I"
      },
      "source": [
        "давайте приведем текст к нижнему регистру"
      ]
    },
    {
      "cell_type": "code",
      "metadata": {
        "colab": {
          "base_uri": "https://localhost:8080/",
          "height": 54
        },
        "id": "y1dUzBYcdiNk",
        "outputId": "0c1efc14-36f9-4361-b796-52a4aacf31f8"
      },
      "source": [
        "text = text.lower()\n",
        "text"
      ],
      "execution_count": null,
      "outputs": [
        {
          "output_type": "execute_result",
          "data": {
            "text/plain": [
              "'система состоит из камеры и программного обеспечения, которое анализирует фотографию.\\n суть технологии — сопоставление лиц, попавших в объектив, с изображениями из базы данных'"
            ]
          },
          "metadata": {
            "tags": []
          },
          "execution_count": 117
        }
      ]
    },
    {
      "cell_type": "markdown",
      "metadata": {
        "id": "hr9pnX59bD3Q"
      },
      "source": [
        "## токенизация"
      ]
    },
    {
      "cell_type": "markdown",
      "metadata": {
        "id": "5evdBA7CkeRC"
      },
      "source": [
        "иногда текст нужно предварительно разбить на токены, отдельные элементы. Токенизаторов много, каждый делает это, руководствуясь своими правилами\n",
        "\n",
        "* токенизация нужна, если морофоанализатор не умеет токенизировать сам (Mystem умеет, pymorphy не умеет)"
      ]
    },
    {
      "cell_type": "code",
      "metadata": {
        "id": "B0E_YZ0KarCA"
      },
      "source": [
        "# попробуем токенизацию от модуля gensim\n",
        "from gensim.utils import tokenize\n",
        "\n",
        "list(tokenize(text))"
      ],
      "execution_count": null,
      "outputs": []
    },
    {
      "cell_type": "code",
      "metadata": {
        "id": "VTGeMdVzb1h9"
      },
      "source": [
        "#  еще можно токенизировать функциями из модуля nltk\n",
        "\n",
        "from nltk.tokenize import word_tokenize, wordpunct_tokenize # попробуем две функции"
      ],
      "execution_count": null,
      "outputs": []
    },
    {
      "cell_type": "code",
      "metadata": {
        "colab": {
          "base_uri": "https://localhost:8080/",
          "height": 34
        },
        "id": "PdAFdQp3cIuu",
        "outputId": "bfbf7c74-5c27-409f-d5c2-43c549156ed8"
      },
      "source": [
        "wordpunct_tokenize(\"O'Brian, Ростов-на-Дону, обычноеслово\")"
      ],
      "execution_count": null,
      "outputs": [
        {
          "output_type": "execute_result",
          "data": {
            "text/plain": [
              "['O', \"'\", 'Brian', ',', 'Ростов', '-', 'на', '-', 'Дону', ',', 'обычноеслово']"
            ]
          },
          "metadata": {
            "tags": []
          },
          "execution_count": 120
        }
      ]
    },
    {
      "cell_type": "code",
      "metadata": {
        "colab": {
          "base_uri": "https://localhost:8080/",
          "height": 68
        },
        "id": "7n8P5o8RgFd9",
        "outputId": "aa7219c3-a1d6-4fe0-f06b-8f531f30fd15"
      },
      "source": [
        "import nltk\n",
        "nltk.download('punkt')\n",
        "\n",
        "word_tokenize(\"O'Brian, Ростов-на-Дону, обычноеслово\")"
      ],
      "execution_count": null,
      "outputs": [
        {
          "output_type": "stream",
          "text": [
            "[nltk_data] Downloading package punkt to /root/nltk_data...\n",
            "[nltk_data]   Package punkt is already up-to-date!\n"
          ],
          "name": "stdout"
        },
        {
          "output_type": "execute_result",
          "data": {
            "text/plain": [
              "[\"O'Brian\", ',', 'Ростов-на-Дону', ',', 'обычноеслово']"
            ]
          },
          "metadata": {
            "tags": []
          },
          "execution_count": 122
        }
      ]
    },
    {
      "cell_type": "markdown",
      "metadata": {
        "id": "myoMhGgKjk1d"
      },
      "source": [
        "## лемматизация и морфоанализ"
      ]
    },
    {
      "cell_type": "markdown",
      "metadata": {
        "id": "FK0Zwx3FSfug"
      },
      "source": [
        "### Mystem"
      ]
    },
    {
      "cell_type": "markdown",
      "metadata": {
        "id": "Uei-SLNwSfuh"
      },
      "source": [
        "\n",
        "Майстем работает немного лучше и сам токенизирует,\n",
        "поэтому можно в него засовывать сырой текст."
      ]
    },
    {
      "cell_type": "code",
      "metadata": {
        "colab": {
          "base_uri": "https://localhost:8080/",
          "height": 88
        },
        "id": "uDQbEwUaSfui",
        "outputId": "2397f16d-2559-40d5-dddc-e5dcb37bb524"
      },
      "source": [
        "# сначала лемматизируем слова методом .lemmatize()\n",
        "print(text)\n",
        "print(mystem.lemmatize(text))\n"
      ],
      "execution_count": null,
      "outputs": [
        {
          "output_type": "stream",
          "text": [
            "система состоит из камеры и программного обеспечения, которое анализирует фотографию.\n",
            " Суть технологии — сопоставление лиц, попавших в объектив, с изображениями из базы данных\n",
            "['система', ' ', 'состоять', ' ', 'из', ' ', 'камера', ' ', 'и', ' ', 'программный', ' ', 'обеспечение', ', ', 'который', ' ', 'анализировать', ' ', 'фотография', '.', '\\n', ' ', 'суть', ' ', 'технология', ' — ', 'сопоставление', ' ', 'лицо', ', ', 'попадать', ' ', 'в', ' ', 'объектив', ', ', 'с', ' ', 'изображение', ' ', 'из', ' ', 'база', ' ', 'данные', '\\n']\n"
          ],
          "name": "stdout"
        }
      ]
    },
    {
      "cell_type": "code",
      "metadata": {
        "id": "4foA60oJSfur"
      },
      "source": [
        "# метод .analyze() даст грамматическую информацию о словах\n",
        "words_analized = mystem.analyze(text)"
      ],
      "execution_count": null,
      "outputs": []
    },
    {
      "cell_type": "markdown",
      "metadata": {
        "id": "I-AaAvpyLcsI"
      },
      "source": [
        "этот метод возвращает список словарей\n",
        "\n",
        "\n",
        "каждый словарь имеет либо одно поле 'text' (когда попался пробел или пунктуация) или text и analysis\n",
        "\n",
        "* в analysis снова список словарей с вариантами разбора (первый самый вероятный)\n",
        "* поля в analysis - 'gr' - грамматическая информация, 'lex' - лемма\n",
        "* analysis - может быть пустым списком"
      ]
    },
    {
      "cell_type": "code",
      "metadata": {
        "id": "j8dvucDvL9Be"
      },
      "source": [
        "words_analized # посмотрим на анализ и теги"
      ],
      "execution_count": null,
      "outputs": []
    },
    {
      "cell_type": "code",
      "metadata": {
        "colab": {
          "base_uri": "https://localhost:8080/",
          "height": 85
        },
        "id": "zbbCXnFbSfuw",
        "outputId": "cd7f46c2-9582-470f-a874-7156a090d98f"
      },
      "source": [
        "# сделаем все красиво с индексами и доступом по ключам\n",
        "\n",
        "print('Слово - ', words_analized[0]['text'])\n",
        "print('Разбор слова - ', words_analized[0]['analysis'][0])\n",
        "print('Лемма слова - ', words_analized[0]['analysis'][0]['lex'])\n",
        "print('Грамматическая информация слова - ', words_analized[0]['analysis'][0]['gr'])"
      ],
      "execution_count": null,
      "outputs": [
        {
          "output_type": "stream",
          "text": [
            "Слово -  система\n",
            "Разбор слова -  {'lex': 'система', 'wt': 1, 'gr': 'S,жен,неод=им,ед'}\n",
            "Лемма слова -  система\n",
            "Грамматическая информация слова -  S,жен,неод=им,ед\n"
          ],
          "name": "stdout"
        }
      ]
    },
    {
      "cell_type": "code",
      "metadata": {
        "colab": {
          "base_uri": "https://localhost:8080/",
          "height": 187
        },
        "id": "FHs_zUYySfuz",
        "outputId": "f5472fb6-d873-45a1-bc09-34d14eca00c6"
      },
      "source": [
        "#леммы можно достать в одну строчку\n",
        "[parse['analysis'][0]['lex'] for parse in words_analized if parse.get('analysis')][:10]"
      ],
      "execution_count": null,
      "outputs": [
        {
          "output_type": "execute_result",
          "data": {
            "text/plain": [
              "['система',\n",
              " 'состоять',\n",
              " 'из',\n",
              " 'камера',\n",
              " 'и',\n",
              " 'программный',\n",
              " 'обеспечение',\n",
              " 'который',\n",
              " 'анализировать',\n",
              " 'фотография']"
            ]
          },
          "metadata": {
            "tags": []
          },
          "execution_count": 75
        }
      ]
    },
    {
      "cell_type": "code",
      "metadata": {
        "id": "G_9QmDvEi-2y"
      },
      "source": [
        "# то же самое, что в предыдущей ячейке, но циклом\n",
        "res = []\n",
        "for parse in words_analized:\n",
        "    if parse.get('analysis'):\n",
        "        res.append(parse['analysis'][0]['lex'])\n",
        "\n",
        "res[:10]"
      ],
      "execution_count": null,
      "outputs": []
    },
    {
      "cell_type": "markdown",
      "metadata": {
        "id": "prpnW0kWjtdg"
      },
      "source": [
        "#### дополнительные возможности Mystem"
      ]
    },
    {
      "cell_type": "markdown",
      "metadata": {
        "id": "U8fThMyuSfu2"
      },
      "source": [
        "Mystem умеет разбивать текст на предложения, но через питоновский интерфейс это сделать не получится. Нужно скачать mystem отсюда - https://yandex.ru/dev/mystem/"
      ]
    },
    {
      "cell_type": "markdown",
      "metadata": {
        "id": "XyzD0fgRSfu2"
      },
      "source": [
        "После этого сохранить текст в файл."
      ]
    },
    {
      "cell_type": "code",
      "metadata": {
        "id": "ZynIzto_Sfu3"
      },
      "source": [
        "f = open('text.txt', 'w')\n",
        "f.write(text)\n",
        "f.close()"
      ],
      "execution_count": null,
      "outputs": []
    },
    {
      "cell_type": "markdown",
      "metadata": {
        "id": "pMePKXv7Sfu8"
      },
      "source": [
        "Из командной строки или из питона запустить майстем на нашем файле"
      ]
    },
    {
      "cell_type": "code",
      "metadata": {
        "id": "1OBbylC0Sfu9"
      },
      "source": [
        "# про параметры почитайте в ./mystem -h\n",
        "os.system(' ./mystem -iscd --format json text.txt text_parsed.txt')"
      ],
      "execution_count": null,
      "outputs": []
    },
    {
      "cell_type": "markdown",
      "metadata": {
        "id": "KPlh0mcpSfu_"
      },
      "source": [
        "В целевом файле теперь лежит разобранный текст в jsonlines (json на каждой строчке)"
      ]
    },
    {
      "cell_type": "code",
      "metadata": {
        "id": "WpGdPDKCSfvB"
      },
      "source": [
        "t = [json.loads(line) for line in open('text_parsed.txt')]"
      ],
      "execution_count": null,
      "outputs": []
    },
    {
      "cell_type": "markdown",
      "metadata": {
        "id": "22nBY2GuSfvE"
      },
      "source": [
        "Каждый объект в этом списке - параграф. Каждый параграф на предложения можно разбив по тегу '//s'"
      ]
    },
    {
      "cell_type": "markdown",
      "metadata": {
        "id": "XD0i8m_RSfvE"
      },
      "source": [
        "Ещё так вызывать майстем может понадобиться, если важна скорость."
      ]
    },
    {
      "cell_type": "markdown",
      "metadata": {
        "id": "iInXST2ASfvF"
      },
      "source": [
        "Недостатки Mystem: это продукт Яндекса с некоторыми ограничениями на использование, больше он не развивается."
      ]
    },
    {
      "cell_type": "markdown",
      "metadata": {
        "id": "2PPKPkPvSfvG"
      },
      "source": [
        "Важным достоинством Mystem является то, что он работает не с отдельными словами, а с целым предложением. При определении нужной леммы учитывается контекст, что позволяет во многих случаях разрешать омонимию."
      ]
    },
    {
      "cell_type": "markdown",
      "metadata": {
        "id": "xmGbPTt9SfvH"
      },
      "source": [
        "### Pymorphy"
      ]
    },
    {
      "cell_type": "markdown",
      "metadata": {
        "id": "AmEOXgExSfvK"
      },
      "source": [
        "Pymorphy - открытый и развивается (можно поучаствовать на гитхабе)\n",
        "\n",
        "Ссылка на репозиторий: https://github.com/kmike/pymorphy2\n",
        "\n",
        "Попробуйте сразу установить быструю версию (pip install pymorphy2[fast])\n",
        "\n",
        "* [документация pymorphy](https://pythonhosted.org/pymorphy/)"
      ]
    },
    {
      "cell_type": "markdown",
      "metadata": {
        "id": "kacinkpvSfvL"
      },
      "source": [
        "У него нет втстроенной токенизации и он расценивает всё как слово. Когда есть несколько вариантов, он выдает их с вероятностостями, которые расчитатны на корпусе со снятой неоднозначностью. Это лучше стемминга, но хуже майстема."
      ]
    },
    {
      "cell_type": "code",
      "metadata": {
        "id": "vLAH4hFGSfvM"
      },
      "source": [
        "# основная функция - pymorphy.parse\n",
        "words_analized = [morph.parse(token) for token in word_tokenize(text)]"
      ],
      "execution_count": null,
      "outputs": []
    },
    {
      "cell_type": "code",
      "metadata": {
        "id": "Xczi9QqikC3w"
      },
      "source": [
        "words_analized"
      ],
      "execution_count": null,
      "outputs": []
    },
    {
      "cell_type": "code",
      "metadata": {
        "colab": {
          "base_uri": "https://localhost:8080/",
          "height": 88
        },
        "id": "7EmhCkUfSfvT",
        "outputId": "2bcfb5e1-05f5-4312-a988-88cec85b0806"
      },
      "source": [
        "morph.parse(\"печь\") # пример с морфологической неоднозначностью (форма слова может пониматься по-разному)"
      ],
      "execution_count": null,
      "outputs": [
        {
          "output_type": "execute_result",
          "data": {
            "text/plain": [
              "[Parse(word='печь', tag=OpencorporaTag('INFN,impf,tran'), normal_form='печь', score=0.666666, methods_stack=((<DictionaryAnalyzer>, 'печь', 2352, 0),)),\n",
              " Parse(word='печь', tag=OpencorporaTag('NOUN,inan,femn sing,nomn'), normal_form='печь', score=0.166666, methods_stack=((<DictionaryAnalyzer>, 'печь', 2131, 0),)),\n",
              " Parse(word='печь', tag=OpencorporaTag('NOUN,inan,femn sing,accs'), normal_form='печь', score=0.166666, methods_stack=((<DictionaryAnalyzer>, 'печь', 2131, 3),))]"
            ]
          },
          "metadata": {
            "tags": []
          },
          "execution_count": 129
        }
      ]
    },
    {
      "cell_type": "markdown",
      "metadata": {
        "id": "LpQ98mZtNf2w"
      },
      "source": [
        "Она похожа на analyze в майстеме только возвращает список объектов Parse\n",
        "* Первый в списке - самый вероятный разбор (у каждого есть score)\n",
        "* Информация достается через атрибут (Parse.word - например)\n",
        "* Грамматическая информация хранится в объекте OpencorporaTag и из него удобно доставать\n",
        "части речи или другие категории"
      ]
    },
    {
      "cell_type": "code",
      "metadata": {
        "colab": {
          "base_uri": "https://localhost:8080/",
          "height": 173
        },
        "id": "2MVvEeqmSfvX",
        "outputId": "cd878f2e-44ed-4c03-93f8-c44fca964d58"
      },
      "source": [
        "# сделаем красиво и тут\n",
        "print('Первое слово - ', words_analized[0][0].word)\n",
        "print('Разбор первого слова - ', words_analized[0][0])\n",
        "print('Лемма первого слова - ', words_analized[0][0].normal_form)\n",
        "print('Грамматическая информация первого слова - ', words_analized[0][0].tag)\n",
        "print('Часть речи первого слова - ', words_analized[0][0].tag.POS)\n",
        "print('Род первого слова - ', words_analized[0][0].tag.gender)\n",
        "print('Число первого слова - ', words_analized[0][0].tag.number)\n",
        "print('Падеж первого слова - ', words_analized[0][0].tag.case)"
      ],
      "execution_count": null,
      "outputs": [
        {
          "output_type": "stream",
          "text": [
            "Первое слово -  система\n",
            "Разбор первого слова -  Parse(word='система', tag=OpencorporaTag('NOUN,inan,femn sing,nomn'), normal_form='система', score=1.0, methods_stack=((<DictionaryAnalyzer>, 'система', 55, 0),))\n",
            "Лемма первого слова -  система\n",
            "Грамматическая информация первого слова -  NOUN,inan,femn sing,nomn\n",
            "Часть речи первого слова -  NOUN\n",
            "Род первого слова -  femn\n",
            "Число первого слова -  sing\n",
            "Падеж первого слова -  nomn\n"
          ],
          "name": "stdout"
        }
      ]
    },
    {
      "cell_type": "markdown",
      "metadata": {
        "id": "lY4sSWT-UCE7"
      },
      "source": [
        "### что можно дальше"
      ]
    },
    {
      "cell_type": "markdown",
      "metadata": {
        "id": "HRYDeot6UKym"
      },
      "source": [
        "Pymorphy и Mystem - не единственные морфоанализаторы для русского языка. Можно, например, посмотреть на [RNNmorph](https://github.com/IlyaGusev/rnnmorph) и [deeppavlov](http://docs.deeppavlov.ai/en/master/features/models/morphotagger.html).\n",
        "\n",
        "А еще есть исследование, где сравнивали морфоанализаторы для русского  ([краткая версия](http://web-corpora.net/wsgi/mystemplus.wsgi/mystemplus/compare_table/), [статья](http://www.dialog-21.ru/media/3473/dereza.pdf))\n",
        "\n",
        " "
      ]
    }
  ]
}