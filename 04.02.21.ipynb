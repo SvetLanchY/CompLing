{
  "nbformat": 4,
  "nbformat_minor": 0,
  "metadata": {
    "colab": {
      "name": "Untitled8.ipynb",
      "provenance": [],
      "collapsed_sections": [],
      "authorship_tag": "ABX9TyMNDMCQL8+rLeVM/KIGsr2z",
      "include_colab_link": true
    },
    "kernelspec": {
      "name": "python3",
      "display_name": "Python 3"
    }
  },
  "cells": [
    {
      "cell_type": "markdown",
      "metadata": {
        "id": "view-in-github",
        "colab_type": "text"
      },
      "source": [
        "<a href=\"https://colab.research.google.com/github/SvetLanchY/CompLing/blob/main/04.02.21.ipynb\" target=\"_parent\"><img src=\"https://colab.research.google.com/assets/colab-badge.svg\" alt=\"Open In Colab\"/></a>"
      ]
    },
    {
      "cell_type": "code",
      "metadata": {
        "colab": {
          "base_uri": "https://localhost:8080/"
        },
        "id": "qRlVd62-0qSw",
        "outputId": "57028942-ea9f-47a9-8107-2d912eae804a"
      },
      "source": [
        "erg = round(5.7896, 3) #positionale Parameter\r\n",
        "print(erg)"
      ],
      "execution_count": 2,
      "outputs": [
        {
          "output_type": "stream",
          "text": [
            "5.79\n"
          ],
          "name": "stdout"
        }
      ]
    },
    {
      "cell_type": "code",
      "metadata": {
        "colab": {
          "base_uri": "https://localhost:8080/"
        },
        "id": "UEUu9CLWlr9-",
        "outputId": "8e5bcbed-fa35-493a-beb8-99ef941861a0"
      },
      "source": [
        "print(1,2,3, \"HuHu\", sep='+', end=\" Ende\")"
      ],
      "execution_count": 3,
      "outputs": [
        {
          "output_type": "stream",
          "text": [
            "1+2+3+HuHu Ende"
          ],
          "name": "stdout"
        }
      ]
    },
    {
      "cell_type": "code",
      "metadata": {
        "colab": {
          "base_uri": "https://localhost:8080/"
        },
        "id": "nXKk_vJulujj",
        "outputId": "aaa891a2-5401-4ee6-ab98-9b3e2fe662b4"
      },
      "source": [
        "def HalloWeltAusgaben():\r\n",
        "    print('Hallo Welt')\r\n",
        "HalloWeltAusgaben()\r\n",
        "\r\n",
        "def HalloWeltAusgaben():\r\n",
        "    return 42"
      ],
      "execution_count": 4,
      "outputs": [
        {
          "output_type": "stream",
          "text": [
            "Hallo Welt\n"
          ],
          "name": "stdout"
        }
      ]
    },
    {
      "cell_type": "code",
      "metadata": {
        "colab": {
          "base_uri": "https://localhost:8080/"
        },
        "id": "myMdpfIfl1uF",
        "outputId": "a1484a95-ad4e-43fa-f3fc-3fa77301daa7"
      },
      "source": [
        "def Addition(Zahl1, Zahl2):\r\n",
        "  if Zahl1 % 2==0:\r\n",
        "    return Zahl1+Zahl2\r\n",
        "    print('nach return')\r\n",
        "print(Addition(8,9)+10)"
      ],
      "execution_count": 13,
      "outputs": [
        {
          "output_type": "stream",
          "text": [
            "27\n"
          ],
          "name": "stdout"
        }
      ]
    },
    {
      "cell_type": "code",
      "metadata": {
        "colab": {
          "base_uri": "https://localhost:8080/"
        },
        "id": "KgNWz_eqnpFv",
        "outputId": "a6b612e6-9676-45ce-c66b-3aaa7d5b3953"
      },
      "source": [
        "def Funktion():\r\n",
        "  print(\"!\")\r\n",
        "\r\n",
        "def Funktion():              # die letzte uktion wird ausgeführt\r\n",
        "  print(\"Hallihalo\")\r\n",
        "\r\n",
        "Funktion()"
      ],
      "execution_count": 15,
      "outputs": [
        {
          "output_type": "stream",
          "text": [
            "Hallihalo\n"
          ],
          "name": "stdout"
        }
      ]
    },
    {
      "cell_type": "code",
      "metadata": {
        "colab": {
          "base_uri": "https://localhost:8080/"
        },
        "id": "YR2-ubuHr0O0",
        "outputId": "34713bda-4628-4d0d-a8c1-a9eeccd3c0e0"
      },
      "source": [
        "def PositionaleParameter(Zahl1=1, Zahl2=42):\r\n",
        "  print(Zahl1* Zahl2)\r\n",
        "#PositionaleParameter()\r\n",
        "PositionaleParameter(Zahl2=7)"
      ],
      "execution_count": 23,
      "outputs": [
        {
          "output_type": "stream",
          "text": [
            "7\n"
          ],
          "name": "stdout"
        }
      ]
    },
    {
      "cell_type": "code",
      "metadata": {
        "colab": {
          "base_uri": "https://localhost:8080/"
        },
        "id": "uTTiZtmKsA2B",
        "outputId": "7acc5adf-34d3-41e4-faa9-1aa87063d87e"
      },
      "source": [
        "def WertAusgeben(Wert):\r\n",
        "  print(Wert)\r\n",
        "\r\n",
        "WertAusgeben(42)\r\n",
        "\r\n",
        "\r\n"
      ],
      "execution_count": 18,
      "outputs": [
        {
          "output_type": "stream",
          "text": [
            "42\n"
          ],
          "name": "stdout"
        }
      ]
    },
    {
      "cell_type": "code",
      "metadata": {
        "id": "mIXvzPsYswwq"
      },
      "source": [
        "def Datum(jahr, Monat, Tag):\r\n",
        "  p"
      ],
      "execution_count": null,
      "outputs": []
    },
    {
      "cell_type": "code",
      "metadata": {
        "colab": {
          "base_uri": "https://localhost:8080/"
        },
        "id": "UUkxwLrVti6f",
        "outputId": "b327ef98-ec22-492f-c605-61483df13a0d"
      },
      "source": [
        "def Variante1(*Werte, a, b):\r\n",
        "    print(a,b)\r\n",
        "Variante1(8,4, a=5, b=6)\r\n"
      ],
      "execution_count": 25,
      "outputs": [
        {
          "output_type": "stream",
          "text": [
            "5 6\n"
          ],
          "name": "stdout"
        }
      ]
    },
    {
      "cell_type": "code",
      "metadata": {
        "id": "QvcaqSt8uYv7"
      },
      "source": [
        "#dazu kommen später\r\n",
        "def Sumieren(*parameter):\r\n",
        "  s = 0\r\n",
        "  for p in parameter:\r\n",
        "    s += p\r\n",
        "  return s\r\n",
        "\r\n",
        "t()"
      ],
      "execution_count": null,
      "outputs": []
    },
    {
      "cell_type": "code",
      "metadata": {
        "colab": {
          "base_uri": "https://localhost:8080/"
        },
        "id": "B0rBBk5ovVnm",
        "outputId": "9410d177-ef74-497e-8282-a1e3a25304fe"
      },
      "source": [
        "def Tauschen(Zahl1, Zahl2):\r\n",
        "  return Zahl2, Zahl1\r\n",
        "print(Tauschen(1,42))"
      ],
      "execution_count": 26,
      "outputs": [
        {
          "output_type": "stream",
          "text": [
            "(42, 1)\n"
          ],
          "name": "stdout"
        }
      ]
    },
    {
      "cell_type": "code",
      "metadata": {
        "colab": {
          "base_uri": "https://localhost:8080/"
        },
        "id": "izfsQo6IwasK",
        "outputId": "049856f8-da3a-4054-d09b-71ecfe7f331a"
      },
      "source": [
        "def IstZahlgerade(Zahl):\r\n",
        "  return True if Zahl % 2 ==0 else False\r\n",
        "print(IstZahlgerade(8))\r\n",
        "print(IstZahlgerade(5))"
      ],
      "execution_count": 27,
      "outputs": [
        {
          "output_type": "stream",
          "text": [
            "True\n",
            "False\n"
          ],
          "name": "stdout"
        }
      ]
    },
    {
      "cell_type": "code",
      "metadata": {
        "id": "HO74MuGCxpdV"
      },
      "source": [
        ""
      ],
      "execution_count": null,
      "outputs": []
    }
  ]
}