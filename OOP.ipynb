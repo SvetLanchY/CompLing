{
  "nbformat": 4,
  "nbformat_minor": 0,
  "metadata": {
    "kernelspec": {
      "display_name": "Python 3",
      "language": "python",
      "name": "python3"
    },
    "language_info": {
      "codemirror_mode": {
        "name": "ipython",
        "version": 3
      },
      "file_extension": ".py",
      "mimetype": "text/x-python",
      "name": "python",
      "nbconvert_exporter": "python",
      "pygments_lexer": "ipython3",
      "version": "3.7.0"
    },
    "colab": {
      "name": "OOP.ipynb",
      "provenance": [],
      "collapsed_sections": [
        "nkXTSanaC24n"
      ]
    }
  },
  "cells": [
    {
      "cell_type": "markdown",
      "metadata": {
        "id": "3PK6XiSZiGEE"
      },
      "source": [
        "## Введение в ООП в питоне\n",
        "\n",
        "ООП (объектно-ориентированное программирование) -- это парадигма, которая фокусируется на создании кода как набора взаимосвязанных \"блоков\" и описании их работы.\n",
        "\n",
        "Два основных термина в парадигме ООП -- это объекты и классы. Классы -- это такие \"шаблоны\", по которым создаются объекты *(представьте план построения дома и готовый дом)*\n",
        "\n",
        "Объекты удобны, потому что ими можно управлять, масштабировать и изменять при необходимости \n",
        "\n",
        "Чтобы создать объект, сначала нужен его \"шаблон\", класс. Класс описывает, что объект умеет делать и какими характеристиками обладает.\n",
        "\n",
        "Объект -- это некоторая абстракция, объектом может быть что угодно. Например, виртуальный котик.\n",
        "\n",
        "Давайте создадим класс, который опишет его умения и характеристики:\n",
        "\n"
      ]
    },
    {
      "cell_type": "code",
      "metadata": {
        "id": "93tj76rHiGEV"
      },
      "source": [
        "# Simple Virtual Cat\n",
        "# Demonstrates a basic class and object\n",
        "\n",
        "#создаем класс:\n",
        "class Cat(object): # в скобках указывается класс-родитель, или универсальный встроенный тип object\n",
        "    \"\"\"A virtual pet\"\"\" # здесь идет документация класса, какого рода объекты можно создавать с помощью класса\n",
        "    \n",
        "    # самое время определить методы (= что объекты этого класса смогут делать). Метод = функция, принадлежащая объекту\n",
        "\n",
        "    # первый навык \n",
        "    def talk(self): # объявляем метод\n",
        "        print(\"\\nHi. I'm an instance of class Cat.\\n\")\n",
        "\n",
        "        # return # методы могут что-то возвращать, при необходимости\n",
        "\n",
        "    # второй навык \n",
        "    def sleep(self):\n",
        "        try:\n",
        "            x = float(input('insert a number:')) # условие, напишем через try-except чтобы исключить неверные типы ввода\n",
        "        except:\n",
        "            print('\\nthis is not a number, I need a number\\n') # ветка для ситуаций, если пользователь ввел не число\n",
        "        else:\n",
        "            print(\"\\nI'm off to sleep for\", x, \"hours, bye!\\n\") #what to do if no exceptions arise"
      ],
      "execution_count": 11,
      "outputs": []
    },
    {
      "cell_type": "markdown",
      "metadata": {
        "id": "7GT5nQqmcWbT"
      },
      "source": [
        "**про self** \n",
        "\n",
        "Как первый параметр любого метода, self автоматически\n",
        "становится ссылкой на объект, по отношению к которому вызван\n",
        "метод. Это значит, что через self метод получает доступ к вызывающему объекту,\n",
        "к его атрибутам и методам (он может, в частности, создавать у объекта новые атрибуты).\n",
        "\n",
        "Мы прописали два начальных метода для класса. Теперь все котики (=объекты), созданные от этого класса, будут уметь говорить (```.talk()```) и спать(```.sleep()```)\n",
        "\n",
        "Самое время создать первый объект:"
      ]
    },
    {
      "cell_type": "code",
      "metadata": {
        "id": "DzKmQF-DiGFI",
        "colab": {
          "base_uri": "https://localhost:8080/"
        },
        "outputId": "079ebc6d-a164-4fe8-ef11-e9814b5684cd"
      },
      "source": [
        "# создаем объект класса Cat, сохраняем в какую-нибудь переменную\n",
        "gatto = Cat()\n",
        "\n",
        "# у этого объекта есть все методы родительского класса \n",
        "gatto.talk()"
      ],
      "execution_count": 12,
      "outputs": [
        {
          "output_type": "stream",
          "text": [
            "\n",
            "Hi. I'm an instance of class Cat.\n",
            "\n"
          ],
          "name": "stdout"
        }
      ]
    },
    {
      "cell_type": "code",
      "metadata": {
        "colab": {
          "base_uri": "https://localhost:8080/"
        },
        "id": "0elZeUIydU3I",
        "outputId": "81c0d5a6-aa0b-495f-e4d1-80807a808555"
      },
      "source": [
        "gatto.sleep()"
      ],
      "execution_count": 13,
      "outputs": [
        {
          "output_type": "stream",
          "text": [
            "insert a number:4\n",
            "\n",
            "I'm off to sleep for 4.0 hours, bye!\n",
            "\n"
          ],
          "name": "stdout"
        }
      ]
    },
    {
      "cell_type": "markdown",
      "metadata": {
        "id": "VnZldnosiGF5"
      },
      "source": [
        "### метод-конструктор aka метод ```__init__``` (метод инициализации)\n",
        "\n",
        "Иногда методы удобно вызывать не вручную, а сразу при создании нового объекта (обычно это нужно, чтобы установить начальные значения атрибутов объекта) <br>\n",
        "В Python есть специальный синтаксис*, метод-конструктор ```__init__``` . \n",
        "\n",
        " ```__init__()``` будет автоматически вызываться при возникновении каждого очередного объекта заданного класса. \n",
        " \n",
        "------------------\n",
        "*В Python есть [набор встроенных «специальных методов»](https://www.tutorialsteacher.com/python/magic-methods-in-python), имена которых начинаются и заканчиваются\n",
        "двумя знаками подчеркивания. Метод-конструктор __init__ - один из них.*"
      ]
    },
    {
      "cell_type": "code",
      "metadata": {
        "id": "kSOjBE5diGGJ"
      },
      "source": [
        "# вот так работает метод-конструктор\n",
        "\n",
        "class Cat(object): # задали класс\n",
        "    \"\"\"A virtual pet\"\"\"\n",
        "    \n",
        "    def __init__ (self): #init-метод, он вызовется автоматом\n",
        "        print(\"New cat is created!\")\n",
        "        \n",
        "    # задаем остальные методы\n",
        "    def talk(self): # объявляем метод\n",
        "        print(\"\\nHi. I'm an instance of class Cat.\\n\")\n",
        "    def sleep(self):\n",
        "        try:\n",
        "            x = float(input('insert a number:')) #a piece of code where eceptions may appear\n",
        "        except:\n",
        "            print('\\nthis is not a number, I need a number\\n') #what to do in cade of exception\n",
        "        else:\n",
        "            print(\"\\nI'm off to sleep for\", x, \"hours, bye!\\n\") #what to do if no exceptions arise"
      ],
      "execution_count": 17,
      "outputs": []
    },
    {
      "cell_type": "code",
      "metadata": {
        "id": "djMJ77mGiGHE",
        "colab": {
          "base_uri": "https://localhost:8080/"
        },
        "outputId": "e1f4bf6a-3b8f-4867-b2a4-ae95b9a9678a"
      },
      "source": [
        "# основная часть - создаем объекты\n",
        "gatto2 = Cat()\n"
      ],
      "execution_count": 18,
      "outputs": [
        {
          "output_type": "stream",
          "text": [
            "New cat is created!\n"
          ],
          "name": "stdout"
        }
      ]
    },
    {
      "cell_type": "code",
      "metadata": {
        "scrolled": true,
        "id": "BDv5cFdUiGIT",
        "colab": {
          "base_uri": "https://localhost:8080/"
        },
        "outputId": "34bca254-95f8-4e14-9c66-de2df237e310"
      },
      "source": [
        "#методы в классах, которые мы вызываем вручную\n",
        "gatto2.talk()\n",
        "# gatto2.sleep()"
      ],
      "execution_count": 20,
      "outputs": [
        {
          "output_type": "stream",
          "text": [
            "\n",
            "Hi. I'm an instance of class Cat.\n",
            "\n"
          ],
          "name": "stdout"
        }
      ]
    },
    {
      "cell_type": "markdown",
      "metadata": {
        "id": "kLsehRTziGJT"
      },
      "source": [
        "**У классов, помимо методов, есть свойства**\n",
        "\n",
        "Свойства (иногда \"аттрибуты\", в английском -- \"class properties\") -- это информация, которая характеризует объекты заданного класса\n",
        "\n"
      ]
    },
    {
      "cell_type": "code",
      "metadata": {
        "id": "N3qphMj9iGJZ"
      },
      "source": [
        "# creating and accessing object attributes\n",
        "\n",
        "class Cat(object): # задали класс\n",
        "    \"\"\"A virtual pet class\"\"\" \n",
        "    \n",
        "    def __init__(self, name): # метод-конструктор \n",
        "        self.name = name # self.name -- это свойство для объекта класса \n",
        "        # Его значение будет равно параметру \"name\" который запрашивается при вызове метода\n",
        "        # так как метод обращается к объекту, значение для параметра name передаем сразу в скобочках при создании объекта\n",
        "        print(\"A new cat is created!\")\n",
        "\n",
        " \n",
        "    def talk(self): # the talk() method receives the automatically sent reference to the object into its self parameter\n",
        "        print(\"Hi. I'm\", self.name, \"\\n\") # the print function displays the text \n",
        "        # by accessing the attribute name of the object through self.name\n",
        "\n",
        "    def sleep(self):\n",
        "        try:\n",
        "            x = float(input('insert a number:')) #a piece of code where eceptions may appear\n",
        "        except:\n",
        "            print('\\nthis is not a number, I need a number\\n') #what to do in cade of exception\n",
        "        else:\n",
        "            print(\"\\nI'm off to sleep for\", x, \"hours, bye!\\n\") #what to do if no exceptions arise   \n",
        "  "
      ],
      "execution_count": 35,
      "outputs": []
    },
    {
      "cell_type": "code",
      "metadata": {
        "id": "RhiDdDv8pM9f",
        "colab": {
          "base_uri": "https://localhost:8080/"
        },
        "outputId": "5f6d2535-b7df-4aa2-972c-e357c62ed4c1"
      },
      "source": [
        "# main\n",
        "\n",
        "gatto2 = Cat(\"Pusheen\") # создали объект, передали значение имени\n",
        "# gatto2.talk() # вызовем метод, теперь он подскажет имя конкретного объекта\n",
        "\n",
        "# а так осуществляется прямой доступ к свойству\n",
        "# gatto2.name # свойства вызываются без скобочек "
      ],
      "execution_count": 34,
      "outputs": [
        {
          "output_type": "stream",
          "text": [
            "A new cat is created! Pusheen\n"
          ],
          "name": "stdout"
        }
      ]
    },
    {
      "cell_type": "markdown",
      "metadata": {
        "id": "apwoF4GStaGA"
      },
      "source": [
        "котики -- это конечно хорошо, но как это связано с комплингом?"
      ]
    },
    {
      "cell_type": "code",
      "metadata": {
        "id": "SXN8s8GYtYW8"
      },
      "source": [
        "example = \"TODAY I have received a lot of telephone calls!\""
      ],
      "execution_count": 44,
      "outputs": []
    },
    {
      "cell_type": "code",
      "metadata": {
        "id": "gr5-mBgxHqzc"
      },
      "source": [
        "class NLP(object):\n",
        "    def __init__(self,text):\n",
        "        self.text = text\n",
        "\n",
        "    def preprocess(self):\n",
        "        return self.text.lower().strip().split()\n",
        "    \n",
        "\n",
        "res = NLP(example)\n",
        "res.preprocess()"
      ],
      "execution_count": 50,
      "outputs": []
    },
    {
      "cell_type": "markdown",
      "metadata": {
        "id": "nkXTSanaC24n"
      },
      "source": [
        "### дополнительные возможности\n",
        "\n",
        "Аттрибуты позволяют определять уникальные характеристики объектов: наприер, можно создать 10 котиков, каждый с уникальным именем\n",
        "\n",
        "Однако иногда нам может потребоваться информация о чем-то внутри класса. Например, общее количество созданных объектов. Нам понадобится class attribute и static method\n",
        "\n",
        "Аттрибут класса (**class attribute**)  -- это такой специальный аттрибут, универсальный для всех объектов класса (о нем можно думать как об универсальной печати)\n",
        "\n",
        "**Static method**  -- метод, связанный с классом, недоступный объектам класса\n",
        "\n"
      ]
    },
    {
      "cell_type": "code",
      "metadata": {
        "id": "AKkWsYDePyxQ"
      },
      "source": [
        "# class attributes and static methods\n",
        "\n",
        "class Cat(object):\n",
        "    \"\"\"A virtual pet\"\"\"\n",
        "    total = 0 # count objects for the 1st time (there're no objects yet)\n",
        "    \"\"\"create a class attribute total and assign value of 0 to it.\n",
        "    !!! any new variable assigned a value outside of a method creates a class attribute\n",
        "    The assignment statement is executed only once, when Python first sees the class definition. \n",
        "    This means that the class attribute exists even before a single object is created. \n",
        "    \"\"\"\n",
        "\n",
        "    @staticmethod # a decorator for a static method. \n",
        "    # Static method appears in all the objects of a class\n",
        "    def status(): # no self here\n",
        "        \"\"\"\n",
        "    doesn't have 'self' because, like all static methods, it’s designed to be invoked through a class and\n",
        "    not an object. So, the method won’t be passed a reference to an object\n",
        "    and therefore won’t need a parameter, like self , to receive such a reference.\n",
        "    Self is only needed in object methods to denote reference to which object the method is applied\n",
        "    Static methods can have parameters in general\"\"\"\n",
        "        \n",
        "        print(\"\\nThe total number of cats now is\", Cat.total) # count objects again \n",
        "        # this func prints the value of the Critter class attribute 'total'\n",
        "        \n",
        "        \n",
        "    def __init__(self, name): #a constructor method, is called automatically when a new object is created\n",
        "        print(\"A new cat is created!\") #this line will be printed automatically\n",
        "        self.name = name # Wut is here\n",
        "        Cat.total += 1 \n",
        "        # In the constructor method, we also increment the value of this class attribute \n",
        "        # works whenever a new object of this class is created"
      ],
      "execution_count": 37,
      "outputs": []
    },
    {
      "cell_type": "code",
      "metadata": {
        "id": "0wpS1nNm88D_",
        "colab": {
          "base_uri": "https://localhost:8080/"
        },
        "outputId": "9650d548-ec56-4fae-9204-f832ebb33765"
      },
      "source": [
        "#main\n",
        "print(\"Counting cats. Current amount of cats is \", Cat.total) #initial count\n",
        "\n",
        "print(\"\\tCreating cats.\")\n",
        "\n",
        "gatto1 = Cat(\"Pusheen\")\n",
        "gatto2 = Cat(\"Daisy\")\n",
        "gatto3 = Cat(\"Bob\")\n",
        "\n",
        "Cat.status() # invoke the static method 'status' for a class Cat (shows current number of objects)"
      ],
      "execution_count": 39,
      "outputs": [
        {
          "output_type": "stream",
          "text": [
            "Counting cats. Current amount of cats is  3\n",
            "\tCreating cats.\n",
            "A new cat is created!\n",
            "A new cat is created!\n",
            "A new cat is created!\n",
            "\n",
            "The total number of cats now is 6\n"
          ],
          "name": "stdout"
        }
      ]
    },
    {
      "cell_type": "code",
      "metadata": {
        "colab": {
          "base_uri": "https://localhost:8080/"
        },
        "id": "yOsPoiUMsGec",
        "outputId": "b51d03b8-cdba-4656-b18d-54fa1abe3c24"
      },
      "source": [
        "# а вот альтернативный метод просмотра этого же параметра\n",
        "print(gatto1.total) # вызов через аттрибут класса"
      ],
      "execution_count": 40,
      "outputs": [
        {
          "output_type": "stream",
          "text": [
            "6\n"
          ],
          "name": "stdout"
        }
      ]
    }
  ]
}