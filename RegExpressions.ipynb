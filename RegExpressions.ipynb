{
  "nbformat": 4,
  "nbformat_minor": 0,
  "metadata": {
    "colab": {
      "name": "Untitled4.ipynb",
      "provenance": [],
      "authorship_tag": "ABX9TyORe8K29q/zLKWrarSt7vqh",
      "include_colab_link": true
    },
    "kernelspec": {
      "name": "python3",
      "display_name": "Python 3"
    }
  },
  "cells": [
    {
      "cell_type": "markdown",
      "metadata": {
        "id": "view-in-github",
        "colab_type": "text"
      },
      "source": [
        "<a href=\"https://colab.research.google.com/github/SvetLanchY/CompLing/blob/main/RegExpressions.ipynb\" target=\"_parent\"><img src=\"https://colab.research.google.com/assets/colab-badge.svg\" alt=\"Open In Colab\"/></a>"
      ]
    },
    {
      "cell_type": "code",
      "metadata": {
        "colab": {
          "base_uri": "https://localhost:8080/"
        },
        "id": "8A2jd2T2ezdl",
        "outputId": "e2fa35ec-657d-405a-85f1-7e9c52563b5c"
      },
      "source": [
        "!wget https://raw.githubusercontent.com/nstsj/python_for_CL/master/regexes/addresses.txt\r\n",
        "!wget https://raw.githubusercontent.com/nstsj/python_for_CL/master/regexes/d_speech.txt\r\n",
        "!wget https://raw.githubusercontent.com/nstsj/python_for_CL/master/regexes/ея.txt\r\n",
        "!wget https://github.com/SvetLanchY/CompLing/blob/main/Emails.txt\r\n",
        "!wget https://github.com/nstsj/python_for_CL/blob/master/regexes/морж-корж.txt"
      ],
      "execution_count": null,
      "outputs": [
        {
          "output_type": "stream",
          "text": [
            "--2021-01-25 16:48:51--  https://raw.githubusercontent.com/nstsj/python_for_CL/master/regexes/addresses.txt\n",
            "Resolving raw.githubusercontent.com (raw.githubusercontent.com)... 151.101.0.133, 151.101.64.133, 151.101.128.133, ...\n",
            "Connecting to raw.githubusercontent.com (raw.githubusercontent.com)|151.101.0.133|:443... connected.\n",
            "HTTP request sent, awaiting response... 200 OK\n",
            "Length: 1224 (1.2K) [text/plain]\n",
            "Saving to: ‘addresses.txt.1’\n",
            "\n",
            "addresses.txt.1     100%[===================>]   1.20K  --.-KB/s    in 0s      \n",
            "\n",
            "2021-01-25 16:48:51 (54.9 MB/s) - ‘addresses.txt.1’ saved [1224/1224]\n",
            "\n",
            "--2021-01-25 16:48:51--  https://raw.githubusercontent.com/nstsj/python_for_CL/master/regexes/d_speech.txt\n",
            "Resolving raw.githubusercontent.com (raw.githubusercontent.com)... 151.101.0.133, 151.101.64.133, 151.101.128.133, ...\n",
            "Connecting to raw.githubusercontent.com (raw.githubusercontent.com)|151.101.0.133|:443... connected.\n",
            "HTTP request sent, awaiting response... 200 OK\n",
            "Length: 10324 (10K) [text/plain]\n",
            "Saving to: ‘d_speech.txt.1’\n",
            "\n",
            "d_speech.txt.1      100%[===================>]  10.08K  --.-KB/s    in 0s      \n",
            "\n",
            "2021-01-25 16:48:51 (46.6 MB/s) - ‘d_speech.txt.1’ saved [10324/10324]\n",
            "\n",
            "--2021-01-25 16:48:51--  https://raw.githubusercontent.com/nstsj/python_for_CL/master/regexes/%D0%B5%D1%8F.txt\n",
            "Resolving raw.githubusercontent.com (raw.githubusercontent.com)... 151.101.0.133, 151.101.64.133, 151.101.128.133, ...\n",
            "Connecting to raw.githubusercontent.com (raw.githubusercontent.com)|151.101.0.133|:443... connected.\n",
            "HTTP request sent, awaiting response... 404 Not Found\n",
            "2021-01-25 16:48:52 ERROR 404: Not Found.\n",
            "\n",
            "--2021-01-25 16:48:52--  https://github.com/SvetLanchY/CompLing/blob/main/Emails.txt\n",
            "Resolving github.com (github.com)... 140.82.113.4\n",
            "Connecting to github.com (github.com)|140.82.113.4|:443... connected.\n",
            "HTTP request sent, awaiting response... 200 OK\n",
            "Length: unspecified [text/html]\n",
            "Saving to: ‘Emails.txt’\n",
            "\n",
            "Emails.txt              [ <=>                ]  96.79K   518KB/s    in 0.2s    \n",
            "\n",
            "2021-01-25 16:48:52 (518 KB/s) - ‘Emails.txt’ saved [99112]\n",
            "\n",
            "--2021-01-25 16:48:52--  https://github.com/nstsj/python_for_CL/blob/master/regexes/%D0%BC%D0%BE%D1%80%D0%B6-%D0%BA%D0%BE%D1%80%D0%B6.txt\n",
            "Resolving github.com (github.com)... 140.82.113.4\n",
            "Connecting to github.com (github.com)|140.82.113.4|:443... connected.\n",
            "HTTP request sent, awaiting response... 200 OK\n",
            "Length: unspecified [text/html]\n",
            "Saving to: ‘морж-корж.txt.1’\n",
            "\n",
            "морж-корж.txt.1         [ <=>                ] 107.87K   583KB/s    in 0.2s    \n",
            "\n",
            "2021-01-25 16:48:53 (583 KB/s) - ‘морж-корж.txt.1’ saved [110454]\n",
            "\n"
          ],
          "name": "stdout"
        }
      ]
    },
    {
      "cell_type": "code",
      "metadata": {
        "id": "SweWrIS-jCsV"
      },
      "source": [
        "import re"
      ],
      "execution_count": null,
      "outputs": []
    },
    {
      "cell_type": "code",
      "metadata": {
        "colab": {
          "base_uri": "https://localhost:8080/"
        },
        "id": "wLt_vWWLjIFr",
        "outputId": "ed486a7c-5d19-4fc4-f822-4d94f0974e79"
      },
      "source": [
        "with open(\"addresses.txt\", \"r+\", encoding=\"utf-8\") as o:\r\n",
        "  text = o.read()\r\n",
        "re.findall(\"\\d+.+\\n.+\\n.+\\d{5}\", text)"
      ],
      "execution_count": null,
      "outputs": [
        {
          "output_type": "execute_result",
          "data": {
            "text/plain": [
              "['700 S. Flower Street\\nSuite 1700\\nLos Angeles, CA 90017',\n",
              " '700 S. Flower Street\\nSuite 1700\\nLos Angeles, CA 90017',\n",
              " '1600 Seventh Avenue\\nSuite 2600\\nSeattle, WA 98101',\n",
              " '1600 Seventh Avenue\\nSuite 2600\\nSeattle, WA 98101',\n",
              " '700 S. Flower Street\\nSuite 1700\\nLos Angeles, CA 90017']"
            ]
          },
          "metadata": {
            "tags": []
          },
          "execution_count": 18
        }
      ]
    },
    {
      "cell_type": "code",
      "metadata": {
        "colab": {
          "base_uri": "https://localhost:8080/"
        },
        "id": "-U2Zx_ZEkUS0",
        "outputId": "1d99fedc-94af-4a16-cdb6-0c3ae761e55a"
      },
      "source": [
        "with open(\"d_speech.txt\", \"r+\", encoding=\"utf-8\") as o:\r\n",
        "  text = o.read()\r\n",
        "re.findall(\"— .+?—|— .+|«.+?—|—.+»\", text)"
      ],
      "execution_count": null,
      "outputs": [
        {
          "output_type": "execute_result",
          "data": {
            "text/plain": [
              "['— Дайте мне консоме! —',\n",
              " '— Прикажете с пашотом или без пашота?',\n",
              " '— Нет, с пашотом слишком сытно... Две-три гренки, пожалуй, дайте...',\n",
              " '«Как, однако, много подают в русских ресторанах! —',\n",
              " '— Пять блинов! Разве один человек может съесть так много теста?»',\n",
              " '— Челаэк! —',\n",
              " '— Подай ещё порцию! Да что у вас за порции такие? Подай сразу штук десять или пятнадцать! Дай балыка... семги, что ли?',\n",
              " '«Странно...—',\n",
              " '— Съел пять кусков теста и ещё просит! Впрочем, такие феномены не составляют редкости... У меня у самого в Бретани был дядя Франсуа, который на пари съедал две тарелки супу и пять бараньих котлет... Говорят, что есть также болезни, когда много едят...»',\n",
              " '«Очевидно, болен...—',\n",
              " '— И неужели он, чудак, воображает, что съест всю эту гору? Не съест и трёх кусков, как желудок его будет уже полон, а ведь придётся платить за всю гору!»',\n",
              " '— Дай ещё икры! —',\n",
              " '— Не забудь зелёного луку!',\n",
              " '«Но... однако, уж половины горы нет! —',\n",
              " '— Боже мой, он и всю семгу съел? Это даже неестественно... Неужели человеческий желудок так растяжим? Не может быть! Как бы ни был растяжим желудок, но он не может растянуться за пределы живота... Будь этот господин у нас во Франции, его показывали бы за деньги... Боже, уже нет горы!»',\n",
              " '— Подашь бутылку Нюи...—',\n",
              " '— Только погрей сначала... Что ещё? Пожалуй, дай ещё порцию блинов... Поскорей только...',\n",
              " '— Слушаю... А на после блинов что прикажете?',\n",
              " '— Что-нибудь полегче... Закажи порцию селянки из осетрины по-русски и... и... Я подумаю, ступай!',\n",
              " '«Может быть, это мне снится? —',\n",
              " '— Этот человек хочет умереть! Нельзя безнаказанно съесть такую массу! Да, да, он хочет умереть. Это видно по его грустному лицу. И неужели прислуге не кажется подозрительным, что он так много ест? Не может быть!»',\n",
              " '— Послушайте, зачем вы так много ему подаёте?',\n",
              " '— То есть, э... э... они требуют-с! Как же не подавать-с? —',\n",
              " '— Странно, но ведь он таким образом может до вечера сидеть здесь и требовать! Если у вас у самих не хватает смелости отказывать ему, то доложите метрдотелю, пригласите полицию!',\n",
              " '«Дикари! —',\n",
              " '— Они ещё рады, что за столом сидит сумасшедший, самоубийца, который может съесть на лишний рубль! Ничего, что умрёт человек, была бы только выручка!»',\n",
              " '— Порядки, нечего сказать! —',\n",
              " '— Меня ужасно раздражают эти длинные антракты! От порции до порции изволь ждать полчаса! Этак и аппетит пропадёт к чёрту, и опоздаешь... Сейчас три часа, а мне к пяти надо быть на юбилейном обеде.',\n",
              " '— Pardon, monsieur, —',\n",
              " '— ведь вы уж обедаете!',\n",
              " '— Не-ет... Какой же это обед? Это завтрак... блины...',\n",
              " '«Бедняга...—',\n",
              " '— Или он болен и не замечает своего опасного состояния, или же он делает всё это нарочно... с целью самоубийства... Боже мой, знай я, что наткнусь здесь на такую картину, то ни за что бы не пришёл сюда! Мои нервы не выносят таких сцен!»',\n",
              " '«По-видимому, человек интеллигентный, молодой... полный сил...—',\n",
              " '— Быть может, приносит пользу своему отечеству... и весьма возможно, что имеет молодую жену, детей... Судя по одежде, он должен быть богат, доволен... но что же заставляет его решаться на такой шаг?.. И неужели он не мог избрать другого способа, чтобы умереть? Чёрт знает как дёшево ценится жизнь! И как низок, бесчеловечен я, сидя здесь и не идя к нему на помощь! Быть может, его ещё можно спасти!»',\n",
              " '— Послушайте, monsieur,—',\n",
              " '— Я не имею чести быть знаком с вами, но, тем не менее, верьте, я друг ваш... Не могу ли я вам помочь чем-нибудь? Вспомните, вы ещё молоды... у вас жена, дети...',\n",
              " '— Я вас не понимаю! —',\n",
              " '— Ах, зачем скрытничать, monsieur? Ведь я отлично вижу! Вы так много едите, что... трудно не подозревать...',\n",
              " '— Я много ем?! —',\n",
              " '— Я?! Полноте... Как же мне не есть, если я с самого утра ничего не ел?',\n",
              " '— Но вы ужасно много едите!',\n",
              " '— Да ведь не вам платить! Что вы беспокоитесь? И вовсе я не много ем! Поглядите, ем, как все!',\n",
              " '«О, страна чудес! —',\n",
              " '— Не только климат, но даже желудки делают у них чудеса! О страна, чудная страна!»']"
            ]
          },
          "metadata": {
            "tags": []
          },
          "execution_count": 19
        }
      ]
    },
    {
      "cell_type": "code",
      "metadata": {
        "colab": {
          "base_uri": "https://localhost:8080/"
        },
        "id": "PPUFdXGpnAqN",
        "outputId": "13938222-5626-497f-d71a-e33ca28d444f"
      },
      "source": [
        "! pip install validate_email\r\n",
        "from validate_email import validate_email\r\n",
        "is_valid = validate_email(text)\r\n",
        "#with open(\"Emails.txt\", \"r+\", encoding=\"utf-8\") as o:\r\n",
        " # text = o.read()\r\n",
        "#re.findall(r'[\\.+]+@[\\.+]', text)\r\n",
        "\r\n"
      ],
      "execution_count": null,
      "outputs": [
        {
          "output_type": "stream",
          "text": [
            "Requirement already satisfied: validate_email in /usr/local/lib/python3.6/dist-packages (1.3)\n"
          ],
          "name": "stdout"
        }
      ]
    },
    {
      "cell_type": "code",
      "metadata": {
        "colab": {
          "base_uri": "https://localhost:8080/",
          "height": 238
        },
        "id": "--BTSX-zW8yD",
        "outputId": "137f10b8-443f-4e98-b040-804e71fb22d7"
      },
      "source": [
        "import os\r\n",
        "import os.path\r\n",
        "path = os.path.dirname(os.path.abspath(__file__)) + '/морж-корж.txt'\r\n",
        "[print(re.sub('морж', 'корж', re.sub('Морж', 'Корж', line)))\r\n",
        " for line in open(path)]\r\n",
        "\r\n",
        "#with open(\"морж-корж.txt\", encoding=\"utf-8\") as o:\r\n",
        "  #text = o.read()\r\n",
        "#re.sub(r'морж', 'корж', text)"
      ],
      "execution_count": null,
      "outputs": [
        {
          "output_type": "error",
          "ename": "NameError",
          "evalue": "ignored",
          "traceback": [
            "\u001b[0;31m---------------------------------------------------------------------------\u001b[0m",
            "\u001b[0;31mNameError\u001b[0m                                 Traceback (most recent call last)",
            "\u001b[0;32m<ipython-input-26-2effecc2ef4e>\u001b[0m in \u001b[0;36m<module>\u001b[0;34m()\u001b[0m\n\u001b[1;32m      1\u001b[0m \u001b[0;32mimport\u001b[0m \u001b[0mos\u001b[0m\u001b[0;34m\u001b[0m\u001b[0;34m\u001b[0m\u001b[0m\n\u001b[1;32m      2\u001b[0m \u001b[0;32mimport\u001b[0m \u001b[0mos\u001b[0m\u001b[0;34m.\u001b[0m\u001b[0mpath\u001b[0m\u001b[0;34m\u001b[0m\u001b[0;34m\u001b[0m\u001b[0m\n\u001b[0;32m----> 3\u001b[0;31m \u001b[0mpath\u001b[0m \u001b[0;34m=\u001b[0m \u001b[0mos\u001b[0m\u001b[0;34m.\u001b[0m\u001b[0mpath\u001b[0m\u001b[0;34m.\u001b[0m\u001b[0mdirname\u001b[0m\u001b[0;34m(\u001b[0m\u001b[0mos\u001b[0m\u001b[0;34m.\u001b[0m\u001b[0mpath\u001b[0m\u001b[0;34m.\u001b[0m\u001b[0mabspath\u001b[0m\u001b[0;34m(\u001b[0m\u001b[0m__file__\u001b[0m\u001b[0;34m)\u001b[0m\u001b[0;34m)\u001b[0m \u001b[0;34m+\u001b[0m \u001b[0;34m'/морж-корж.txt'\u001b[0m\u001b[0;34m\u001b[0m\u001b[0;34m\u001b[0m\u001b[0m\n\u001b[0m\u001b[1;32m      4\u001b[0m [print(re.sub('морж', 'корж', re.sub('Морж', 'Корж', line)))\n\u001b[1;32m      5\u001b[0m  for line in open(path)]\n",
            "\u001b[0;31mNameError\u001b[0m: name '__file__' is not defined"
          ]
        }
      ]
    }
  ]
}